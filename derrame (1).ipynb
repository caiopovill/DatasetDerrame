{
 "cells": [
  {
   "cell_type": "markdown",
   "id": "3d022da4",
   "metadata": {},
   "source": [
    "# Dataset sobre Previsão de derrames"
   ]
  },
  {
   "cell_type": "markdown",
   "id": "fa5fb963",
   "metadata": {},
   "source": [
    "Nessa faremos uma pequena análise exploratória dos dados para entrarmos com machine learning e tentarmos prever a incidência de derramos em determinadas caracteristicas de seres humanos."
   ]
  },
  {
   "cell_type": "markdown",
   "id": "1228dfcd",
   "metadata": {},
   "source": [
    "#### Importando as bibliotecas"
   ]
  },
  {
   "cell_type": "code",
   "execution_count": null,
   "id": "3095f898",
   "metadata": {},
   "outputs": [],
   "source": [
    "#Manipulação\n",
    "import numpy as np\n",
    "import pandas as pd\n",
    "\n",
    "#Tratamento\n",
    "from sklearn.model_selection import train_test_split\n",
    "from sklearn.impute import KNNImputer\n",
    "from sklearn.preprocessing import StandardScaler\n",
    "\n",
    "#Modelos\n",
    "from sklearn.linear_model import LogisticRegression\n",
    "from sklearn.neighbors import KNeighborsClassifier\n",
    "from sklearn.tree import DecisionTreeClassifier\n",
    "from sklearn.ensemble import RandomForestClassifier, GradientBoostingClassifier\n",
    "from xgboost import XGBClassifier\n",
    "\n",
    "\n",
    "#Métricas\n",
    "from sklearn.metrics import accuracy_score, f1_score\n",
    "\n",
    "import warnings\n",
    "warnings.filterwarnings(action='ignore')"
   ]
  },
  {
   "cell_type": "markdown",
   "id": "fc8a4362",
   "metadata": {},
   "source": [
    "Lendo o arquivo que contém os dados.\n",
    "Estamos usando o dataset https://www.kaggle.com/datasets/fedesoriano/stroke-prediction-dataset."
   ]
  },
  {
   "cell_type": "code",
   "execution_count": 561,
   "id": "63346edf",
   "metadata": {},
   "outputs": [],
   "source": [
    "data = pd.read_csv(r'C:\\Users\\Usuario\\Desktop\\data\\derrame.csv')"
   ]
  },
  {
   "cell_type": "code",
   "execution_count": 562,
   "id": "7800497b",
   "metadata": {},
   "outputs": [
    {
     "data": {
      "text/html": [
       "<div>\n",
       "<style scoped>\n",
       "    .dataframe tbody tr th:only-of-type {\n",
       "        vertical-align: middle;\n",
       "    }\n",
       "\n",
       "    .dataframe tbody tr th {\n",
       "        vertical-align: top;\n",
       "    }\n",
       "\n",
       "    .dataframe thead th {\n",
       "        text-align: right;\n",
       "    }\n",
       "</style>\n",
       "<table border=\"1\" class=\"dataframe\">\n",
       "  <thead>\n",
       "    <tr style=\"text-align: right;\">\n",
       "      <th></th>\n",
       "      <th>id</th>\n",
       "      <th>gender</th>\n",
       "      <th>age</th>\n",
       "      <th>hypertension</th>\n",
       "      <th>heart_disease</th>\n",
       "      <th>ever_married</th>\n",
       "      <th>work_type</th>\n",
       "      <th>Residence_type</th>\n",
       "      <th>avg_glucose_level</th>\n",
       "      <th>bmi</th>\n",
       "      <th>smoking_status</th>\n",
       "      <th>stroke</th>\n",
       "    </tr>\n",
       "  </thead>\n",
       "  <tbody>\n",
       "    <tr>\n",
       "      <th>0</th>\n",
       "      <td>9046</td>\n",
       "      <td>Male</td>\n",
       "      <td>67.0</td>\n",
       "      <td>0</td>\n",
       "      <td>1</td>\n",
       "      <td>Yes</td>\n",
       "      <td>Private</td>\n",
       "      <td>Urban</td>\n",
       "      <td>228.69</td>\n",
       "      <td>36.6</td>\n",
       "      <td>formerly smoked</td>\n",
       "      <td>1</td>\n",
       "    </tr>\n",
       "    <tr>\n",
       "      <th>1</th>\n",
       "      <td>51676</td>\n",
       "      <td>Female</td>\n",
       "      <td>61.0</td>\n",
       "      <td>0</td>\n",
       "      <td>0</td>\n",
       "      <td>Yes</td>\n",
       "      <td>Self-employed</td>\n",
       "      <td>Rural</td>\n",
       "      <td>202.21</td>\n",
       "      <td>NaN</td>\n",
       "      <td>never smoked</td>\n",
       "      <td>1</td>\n",
       "    </tr>\n",
       "    <tr>\n",
       "      <th>2</th>\n",
       "      <td>31112</td>\n",
       "      <td>Male</td>\n",
       "      <td>80.0</td>\n",
       "      <td>0</td>\n",
       "      <td>1</td>\n",
       "      <td>Yes</td>\n",
       "      <td>Private</td>\n",
       "      <td>Rural</td>\n",
       "      <td>105.92</td>\n",
       "      <td>32.5</td>\n",
       "      <td>never smoked</td>\n",
       "      <td>1</td>\n",
       "    </tr>\n",
       "    <tr>\n",
       "      <th>3</th>\n",
       "      <td>60182</td>\n",
       "      <td>Female</td>\n",
       "      <td>49.0</td>\n",
       "      <td>0</td>\n",
       "      <td>0</td>\n",
       "      <td>Yes</td>\n",
       "      <td>Private</td>\n",
       "      <td>Urban</td>\n",
       "      <td>171.23</td>\n",
       "      <td>34.4</td>\n",
       "      <td>smokes</td>\n",
       "      <td>1</td>\n",
       "    </tr>\n",
       "    <tr>\n",
       "      <th>4</th>\n",
       "      <td>1665</td>\n",
       "      <td>Female</td>\n",
       "      <td>79.0</td>\n",
       "      <td>1</td>\n",
       "      <td>0</td>\n",
       "      <td>Yes</td>\n",
       "      <td>Self-employed</td>\n",
       "      <td>Rural</td>\n",
       "      <td>174.12</td>\n",
       "      <td>24.0</td>\n",
       "      <td>never smoked</td>\n",
       "      <td>1</td>\n",
       "    </tr>\n",
       "    <tr>\n",
       "      <th>...</th>\n",
       "      <td>...</td>\n",
       "      <td>...</td>\n",
       "      <td>...</td>\n",
       "      <td>...</td>\n",
       "      <td>...</td>\n",
       "      <td>...</td>\n",
       "      <td>...</td>\n",
       "      <td>...</td>\n",
       "      <td>...</td>\n",
       "      <td>...</td>\n",
       "      <td>...</td>\n",
       "      <td>...</td>\n",
       "    </tr>\n",
       "    <tr>\n",
       "      <th>5105</th>\n",
       "      <td>18234</td>\n",
       "      <td>Female</td>\n",
       "      <td>80.0</td>\n",
       "      <td>1</td>\n",
       "      <td>0</td>\n",
       "      <td>Yes</td>\n",
       "      <td>Private</td>\n",
       "      <td>Urban</td>\n",
       "      <td>83.75</td>\n",
       "      <td>NaN</td>\n",
       "      <td>never smoked</td>\n",
       "      <td>0</td>\n",
       "    </tr>\n",
       "    <tr>\n",
       "      <th>5106</th>\n",
       "      <td>44873</td>\n",
       "      <td>Female</td>\n",
       "      <td>81.0</td>\n",
       "      <td>0</td>\n",
       "      <td>0</td>\n",
       "      <td>Yes</td>\n",
       "      <td>Self-employed</td>\n",
       "      <td>Urban</td>\n",
       "      <td>125.20</td>\n",
       "      <td>40.0</td>\n",
       "      <td>never smoked</td>\n",
       "      <td>0</td>\n",
       "    </tr>\n",
       "    <tr>\n",
       "      <th>5107</th>\n",
       "      <td>19723</td>\n",
       "      <td>Female</td>\n",
       "      <td>35.0</td>\n",
       "      <td>0</td>\n",
       "      <td>0</td>\n",
       "      <td>Yes</td>\n",
       "      <td>Self-employed</td>\n",
       "      <td>Rural</td>\n",
       "      <td>82.99</td>\n",
       "      <td>30.6</td>\n",
       "      <td>never smoked</td>\n",
       "      <td>0</td>\n",
       "    </tr>\n",
       "    <tr>\n",
       "      <th>5108</th>\n",
       "      <td>37544</td>\n",
       "      <td>Male</td>\n",
       "      <td>51.0</td>\n",
       "      <td>0</td>\n",
       "      <td>0</td>\n",
       "      <td>Yes</td>\n",
       "      <td>Private</td>\n",
       "      <td>Rural</td>\n",
       "      <td>166.29</td>\n",
       "      <td>25.6</td>\n",
       "      <td>formerly smoked</td>\n",
       "      <td>0</td>\n",
       "    </tr>\n",
       "    <tr>\n",
       "      <th>5109</th>\n",
       "      <td>44679</td>\n",
       "      <td>Female</td>\n",
       "      <td>44.0</td>\n",
       "      <td>0</td>\n",
       "      <td>0</td>\n",
       "      <td>Yes</td>\n",
       "      <td>Govt_job</td>\n",
       "      <td>Urban</td>\n",
       "      <td>85.28</td>\n",
       "      <td>26.2</td>\n",
       "      <td>Unknown</td>\n",
       "      <td>0</td>\n",
       "    </tr>\n",
       "  </tbody>\n",
       "</table>\n",
       "<p>5110 rows × 12 columns</p>\n",
       "</div>"
      ],
      "text/plain": [
       "         id  gender   age  hypertension  heart_disease ever_married  \\\n",
       "0      9046    Male  67.0             0              1          Yes   \n",
       "1     51676  Female  61.0             0              0          Yes   \n",
       "2     31112    Male  80.0             0              1          Yes   \n",
       "3     60182  Female  49.0             0              0          Yes   \n",
       "4      1665  Female  79.0             1              0          Yes   \n",
       "...     ...     ...   ...           ...            ...          ...   \n",
       "5105  18234  Female  80.0             1              0          Yes   \n",
       "5106  44873  Female  81.0             0              0          Yes   \n",
       "5107  19723  Female  35.0             0              0          Yes   \n",
       "5108  37544    Male  51.0             0              0          Yes   \n",
       "5109  44679  Female  44.0             0              0          Yes   \n",
       "\n",
       "          work_type Residence_type  avg_glucose_level   bmi   smoking_status  \\\n",
       "0           Private          Urban             228.69  36.6  formerly smoked   \n",
       "1     Self-employed          Rural             202.21   NaN     never smoked   \n",
       "2           Private          Rural             105.92  32.5     never smoked   \n",
       "3           Private          Urban             171.23  34.4           smokes   \n",
       "4     Self-employed          Rural             174.12  24.0     never smoked   \n",
       "...             ...            ...                ...   ...              ...   \n",
       "5105        Private          Urban              83.75   NaN     never smoked   \n",
       "5106  Self-employed          Urban             125.20  40.0     never smoked   \n",
       "5107  Self-employed          Rural              82.99  30.6     never smoked   \n",
       "5108        Private          Rural             166.29  25.6  formerly smoked   \n",
       "5109       Govt_job          Urban              85.28  26.2          Unknown   \n",
       "\n",
       "      stroke  \n",
       "0          1  \n",
       "1          1  \n",
       "2          1  \n",
       "3          1  \n",
       "4          1  \n",
       "...      ...  \n",
       "5105       0  \n",
       "5106       0  \n",
       "5107       0  \n",
       "5108       0  \n",
       "5109       0  \n",
       "\n",
       "[5110 rows x 12 columns]"
      ]
     },
     "execution_count": 562,
     "metadata": {},
     "output_type": "execute_result"
    }
   ],
   "source": [
    "data"
   ]
  },
  {
   "cell_type": "code",
   "execution_count": 563,
   "id": "7eb168c0",
   "metadata": {},
   "outputs": [
    {
     "name": "stdout",
     "output_type": "stream",
     "text": [
      "<class 'pandas.core.frame.DataFrame'>\n",
      "RangeIndex: 5110 entries, 0 to 5109\n",
      "Data columns (total 12 columns):\n",
      " #   Column             Non-Null Count  Dtype  \n",
      "---  ------             --------------  -----  \n",
      " 0   id                 5110 non-null   int64  \n",
      " 1   gender             5110 non-null   object \n",
      " 2   age                5110 non-null   float64\n",
      " 3   hypertension       5110 non-null   int64  \n",
      " 4   heart_disease      5110 non-null   int64  \n",
      " 5   ever_married       5110 non-null   object \n",
      " 6   work_type          5110 non-null   object \n",
      " 7   Residence_type     5110 non-null   object \n",
      " 8   avg_glucose_level  5110 non-null   float64\n",
      " 9   bmi                4909 non-null   float64\n",
      " 10  smoking_status     5110 non-null   object \n",
      " 11  stroke             5110 non-null   int64  \n",
      "dtypes: float64(3), int64(4), object(5)\n",
      "memory usage: 479.2+ KB\n"
     ]
    }
   ],
   "source": [
    "data.info()"
   ]
  },
  {
   "cell_type": "markdown",
   "id": "1cb08da7",
   "metadata": {},
   "source": [
    "O dataset contém 5 colunas de variáveis categóricas, antes de transformar em variáveis numéricas, vamos gerar alguns gráficos para entendermos melhor os dados."
   ]
  },
  {
   "cell_type": "code",
   "execution_count": 673,
   "id": "b85b8505",
   "metadata": {},
   "outputs": [
    {
     "data": {
      "text/plain": [
       "Female    2994\n",
       "Male      2115\n",
       "Other        1\n",
       "Name: gender, dtype: int64"
      ]
     },
     "execution_count": 673,
     "metadata": {},
     "output_type": "execute_result"
    }
   ],
   "source": [
    "df.gender.value_counts()"
   ]
  },
  {
   "cell_type": "code",
   "execution_count": 674,
   "id": "f5d07cba",
   "metadata": {},
   "outputs": [],
   "source": [
    "a = df[df['gender']=='Male']"
   ]
  },
  {
   "cell_type": "code",
   "execution_count": 675,
   "id": "6cfa1b90",
   "metadata": {},
   "outputs": [
    {
     "data": {
      "text/html": [
       "<div>\n",
       "<style scoped>\n",
       "    .dataframe tbody tr th:only-of-type {\n",
       "        vertical-align: middle;\n",
       "    }\n",
       "\n",
       "    .dataframe tbody tr th {\n",
       "        vertical-align: top;\n",
       "    }\n",
       "\n",
       "    .dataframe thead th {\n",
       "        text-align: right;\n",
       "    }\n",
       "</style>\n",
       "<table border=\"1\" class=\"dataframe\">\n",
       "  <thead>\n",
       "    <tr style=\"text-align: right;\">\n",
       "      <th></th>\n",
       "      <th>id</th>\n",
       "      <th>gender</th>\n",
       "      <th>age</th>\n",
       "      <th>hypertension</th>\n",
       "      <th>heart_disease</th>\n",
       "      <th>ever_married</th>\n",
       "      <th>work_type</th>\n",
       "      <th>Residence_type</th>\n",
       "      <th>avg_glucose_level</th>\n",
       "      <th>bmi</th>\n",
       "      <th>smoking_status</th>\n",
       "      <th>stroke</th>\n",
       "    </tr>\n",
       "  </thead>\n",
       "  <tbody>\n",
       "    <tr>\n",
       "      <th>0</th>\n",
       "      <td>9046</td>\n",
       "      <td>Male</td>\n",
       "      <td>67.0</td>\n",
       "      <td>0</td>\n",
       "      <td>1</td>\n",
       "      <td>Yes</td>\n",
       "      <td>Private</td>\n",
       "      <td>Urban</td>\n",
       "      <td>228.69</td>\n",
       "      <td>36.600000</td>\n",
       "      <td>formerly smoked</td>\n",
       "      <td>1</td>\n",
       "    </tr>\n",
       "    <tr>\n",
       "      <th>2</th>\n",
       "      <td>31112</td>\n",
       "      <td>Male</td>\n",
       "      <td>80.0</td>\n",
       "      <td>0</td>\n",
       "      <td>1</td>\n",
       "      <td>Yes</td>\n",
       "      <td>Private</td>\n",
       "      <td>Rural</td>\n",
       "      <td>105.92</td>\n",
       "      <td>32.500000</td>\n",
       "      <td>never smoked</td>\n",
       "      <td>1</td>\n",
       "    </tr>\n",
       "    <tr>\n",
       "      <th>5</th>\n",
       "      <td>56669</td>\n",
       "      <td>Male</td>\n",
       "      <td>81.0</td>\n",
       "      <td>0</td>\n",
       "      <td>0</td>\n",
       "      <td>Yes</td>\n",
       "      <td>Private</td>\n",
       "      <td>Urban</td>\n",
       "      <td>186.21</td>\n",
       "      <td>29.000000</td>\n",
       "      <td>formerly smoked</td>\n",
       "      <td>1</td>\n",
       "    </tr>\n",
       "    <tr>\n",
       "      <th>6</th>\n",
       "      <td>53882</td>\n",
       "      <td>Male</td>\n",
       "      <td>74.0</td>\n",
       "      <td>1</td>\n",
       "      <td>1</td>\n",
       "      <td>Yes</td>\n",
       "      <td>Private</td>\n",
       "      <td>Rural</td>\n",
       "      <td>70.09</td>\n",
       "      <td>27.400000</td>\n",
       "      <td>never smoked</td>\n",
       "      <td>1</td>\n",
       "    </tr>\n",
       "    <tr>\n",
       "      <th>13</th>\n",
       "      <td>8213</td>\n",
       "      <td>Male</td>\n",
       "      <td>78.0</td>\n",
       "      <td>0</td>\n",
       "      <td>1</td>\n",
       "      <td>Yes</td>\n",
       "      <td>Private</td>\n",
       "      <td>Urban</td>\n",
       "      <td>219.84</td>\n",
       "      <td>28.893237</td>\n",
       "      <td>Unknown</td>\n",
       "      <td>1</td>\n",
       "    </tr>\n",
       "    <tr>\n",
       "      <th>...</th>\n",
       "      <td>...</td>\n",
       "      <td>...</td>\n",
       "      <td>...</td>\n",
       "      <td>...</td>\n",
       "      <td>...</td>\n",
       "      <td>...</td>\n",
       "      <td>...</td>\n",
       "      <td>...</td>\n",
       "      <td>...</td>\n",
       "      <td>...</td>\n",
       "      <td>...</td>\n",
       "      <td>...</td>\n",
       "    </tr>\n",
       "    <tr>\n",
       "      <th>240</th>\n",
       "      <td>10548</td>\n",
       "      <td>Male</td>\n",
       "      <td>66.0</td>\n",
       "      <td>0</td>\n",
       "      <td>0</td>\n",
       "      <td>Yes</td>\n",
       "      <td>Private</td>\n",
       "      <td>Rural</td>\n",
       "      <td>76.46</td>\n",
       "      <td>21.200000</td>\n",
       "      <td>formerly smoked</td>\n",
       "      <td>1</td>\n",
       "    </tr>\n",
       "    <tr>\n",
       "      <th>241</th>\n",
       "      <td>52282</td>\n",
       "      <td>Male</td>\n",
       "      <td>57.0</td>\n",
       "      <td>0</td>\n",
       "      <td>0</td>\n",
       "      <td>Yes</td>\n",
       "      <td>Private</td>\n",
       "      <td>Rural</td>\n",
       "      <td>197.28</td>\n",
       "      <td>34.500000</td>\n",
       "      <td>formerly smoked</td>\n",
       "      <td>1</td>\n",
       "    </tr>\n",
       "    <tr>\n",
       "      <th>242</th>\n",
       "      <td>45535</td>\n",
       "      <td>Male</td>\n",
       "      <td>68.0</td>\n",
       "      <td>0</td>\n",
       "      <td>0</td>\n",
       "      <td>Yes</td>\n",
       "      <td>Private</td>\n",
       "      <td>Rural</td>\n",
       "      <td>233.94</td>\n",
       "      <td>42.400000</td>\n",
       "      <td>never smoked</td>\n",
       "      <td>1</td>\n",
       "    </tr>\n",
       "    <tr>\n",
       "      <th>244</th>\n",
       "      <td>17739</td>\n",
       "      <td>Male</td>\n",
       "      <td>57.0</td>\n",
       "      <td>0</td>\n",
       "      <td>0</td>\n",
       "      <td>Yes</td>\n",
       "      <td>Private</td>\n",
       "      <td>Rural</td>\n",
       "      <td>84.96</td>\n",
       "      <td>36.700000</td>\n",
       "      <td>Unknown</td>\n",
       "      <td>1</td>\n",
       "    </tr>\n",
       "    <tr>\n",
       "      <th>247</th>\n",
       "      <td>34060</td>\n",
       "      <td>Male</td>\n",
       "      <td>71.0</td>\n",
       "      <td>1</td>\n",
       "      <td>0</td>\n",
       "      <td>Yes</td>\n",
       "      <td>Self-employed</td>\n",
       "      <td>Rural</td>\n",
       "      <td>87.80</td>\n",
       "      <td>28.893237</td>\n",
       "      <td>Unknown</td>\n",
       "      <td>1</td>\n",
       "    </tr>\n",
       "  </tbody>\n",
       "</table>\n",
       "<p>108 rows × 12 columns</p>\n",
       "</div>"
      ],
      "text/plain": [
       "        id gender   age  hypertension  heart_disease ever_married  \\\n",
       "0     9046   Male  67.0             0              1          Yes   \n",
       "2    31112   Male  80.0             0              1          Yes   \n",
       "5    56669   Male  81.0             0              0          Yes   \n",
       "6    53882   Male  74.0             1              1          Yes   \n",
       "13    8213   Male  78.0             0              1          Yes   \n",
       "..     ...    ...   ...           ...            ...          ...   \n",
       "240  10548   Male  66.0             0              0          Yes   \n",
       "241  52282   Male  57.0             0              0          Yes   \n",
       "242  45535   Male  68.0             0              0          Yes   \n",
       "244  17739   Male  57.0             0              0          Yes   \n",
       "247  34060   Male  71.0             1              0          Yes   \n",
       "\n",
       "         work_type Residence_type  avg_glucose_level        bmi  \\\n",
       "0          Private          Urban             228.69  36.600000   \n",
       "2          Private          Rural             105.92  32.500000   \n",
       "5          Private          Urban             186.21  29.000000   \n",
       "6          Private          Rural              70.09  27.400000   \n",
       "13         Private          Urban             219.84  28.893237   \n",
       "..             ...            ...                ...        ...   \n",
       "240        Private          Rural              76.46  21.200000   \n",
       "241        Private          Rural             197.28  34.500000   \n",
       "242        Private          Rural             233.94  42.400000   \n",
       "244        Private          Rural              84.96  36.700000   \n",
       "247  Self-employed          Rural              87.80  28.893237   \n",
       "\n",
       "      smoking_status  stroke  \n",
       "0    formerly smoked       1  \n",
       "2       never smoked       1  \n",
       "5    formerly smoked       1  \n",
       "6       never smoked       1  \n",
       "13           Unknown       1  \n",
       "..               ...     ...  \n",
       "240  formerly smoked       1  \n",
       "241  formerly smoked       1  \n",
       "242     never smoked       1  \n",
       "244          Unknown       1  \n",
       "247          Unknown       1  \n",
       "\n",
       "[108 rows x 12 columns]"
      ]
     },
     "execution_count": 675,
     "metadata": {},
     "output_type": "execute_result"
    }
   ],
   "source": [
    "a[a['stroke']==1]"
   ]
  },
  {
   "cell_type": "code",
   "execution_count": 659,
   "id": "837e06b5",
   "metadata": {},
   "outputs": [
    {
     "data": {
      "text/plain": [
       "<AxesSubplot:xlabel='gender', ylabel='count'>"
      ]
     },
     "execution_count": 659,
     "metadata": {},
     "output_type": "execute_result"
    },
    {
     "data": {
      "image/png": "[encoded data removed]",
      "text/plain": [
       "<Figure size 432x288 with 1 Axes>"
      ]
     },
     "metadata": {
      "needs_background": "light"
     },
     "output_type": "display_data"
    }
   ],
   "source": [
    "sns.countplot(data=df,x='gender',hue='stroke',palette=\"pastel\")"
   ]
  },
  {
   "cell_type": "markdown",
   "id": "d2d97cd8",
   "metadata": {},
   "source": [
    "Nesse gráfico de contagem podemos ver a incidência de derrame entre os gêneros é bem parelha, mesmo com gênero feminino possuindo mais amostras."
   ]
  },
  {
   "cell_type": "code",
   "execution_count": 680,
   "id": "d538c59c",
   "metadata": {},
   "outputs": [
    {
     "data": {
      "image/png": "[encoded data removed]",
      "text/plain": [
       "<Figure size 432x288 with 1 Axes>"
      ]
     },
     "metadata": {
      "needs_background": "light"
     },
     "output_type": "display_data"
    },
    {
     "data": {
      "image/png": "[encoded data removed]",
      "text/plain": [
       "<Figure size 432x288 with 1 Axes>"
      ]
     },
     "metadata": {
      "needs_background": "light"
     },
     "output_type": "display_data"
    },
    {
     "data": {
      "image/png": "[encoded data removed]",
      "text/plain": [
       "<Figure size 432x288 with 1 Axes>"
      ]
     },
     "metadata": {
      "needs_background": "light"
     },
     "output_type": "display_data"
    },
    {
     "data": {
      "image/png": "[encoded data removed]",
      "text/plain": [
       "<Figure size 432x288 with 1 Axes>"
      ]
     },
     "metadata": {
      "needs_background": "light"
     },
     "output_type": "display_data"
    }
   ],
   "source": [
    "cols = ['heart_disease','Residence_type','hypertension','ever_married']\n",
    "\n",
    "for col in cols:\n",
    "    sns.countplot(data=data, x=col, palette='cool',hue='stroke')\n",
    "    plt.show()"
   ]
  },
  {
   "cell_type": "markdown",
   "id": "fcc90e83",
   "metadata": {},
   "source": [
    "Nesses gráficos nós não conseguimos identificar nenhuma característica forte que indique uma relevância na incidência do derrame"
   ]
  },
  {
   "cell_type": "markdown",
   "id": "8edece13",
   "metadata": {},
   "source": [
    "Agora vamos gerar um gráfico de calor para observar a correlação entre as variáveis"
   ]
  },
  {
   "cell_type": "code",
   "execution_count": 681,
   "id": "a715b63d",
   "metadata": {},
   "outputs": [
    {
     "data": {
      "image/png": "[encoded data removed]",
      "text/plain": [
       "<Figure size 432x288 with 2 Axes>"
      ]
     },
     "metadata": {
      "needs_background": "light"
     },
     "output_type": "display_data"
    }
   ],
   "source": [
    "cols1 = [x for x in df.columns if x != 'id']\n",
    "var_num_corr = data[cols1].corr()\n",
    "\n",
    "sns.heatmap(var_num_corr, vmin=-1, vmax=1, annot=True, linewidth=0.01, linecolor='black', cmap='RdBu_r')\n",
    "\n",
    "plt.show()"
   ]
  },
  {
   "cell_type": "markdown",
   "id": "21bc1d90",
   "metadata": {},
   "source": [
    "Com esse gráfico conseguimos identificar melhor as características com maior correlação. a feature idade tem correlação de 0.25 com a incidência de derrame."
   ]
  },
  {
   "cell_type": "code",
   "execution_count": 612,
   "id": "2c927ea5",
   "metadata": {},
   "outputs": [],
   "source": [
    "def check_outliers(df, variable):\n",
    "    \n",
    "    # define figure size\n",
    "    plt.figure(figsize=(16, 4))\n",
    "\n",
    "    # histogram\n",
    "    plt.subplot(1, 3, 1)\n",
    "    sns.histplot(df[variable], bins=30)\n",
    "    plt.title('Histogram')\n",
    "\n",
    "    plt.subplot(1, 3, 2)\n",
    "    stats.probplot(df[variable], dist=\"norm\", plot=plt)\n",
    "    plt.ylabel('Variable quantiles')\n",
    "\n",
    "    # boxplot\n",
    "    plt.subplot(1, 3, 3)\n",
    "    sns.boxplot(y=df[variable])\n",
    "    plt.title('Boxplot')\n",
    "\n",
    "    plt.show()"
   ]
  },
  {
   "cell_type": "markdown",
   "id": "3632c95a",
   "metadata": {},
   "source": [
    "# Dados estatísticos"
   ]
  },
  {
   "cell_type": "code",
   "execution_count": 618,
   "id": "4af3d6df",
   "metadata": {},
   "outputs": [],
   "source": [
    "import scipy.stats as stats"
   ]
  },
  {
   "cell_type": "code",
   "execution_count": 623,
   "id": "78bfa7c5",
   "metadata": {},
   "outputs": [
    {
     "data": {
      "image/png": "[encoded data removed]",
      "text/plain": [
       "<Figure size 1152x288 with 3 Axes>"
      ]
     },
     "metadata": {
      "needs_background": "light"
     },
     "output_type": "display_data"
    },
    {
     "data": {
      "image/png": "[encoded data removed]",
      "text/plain": [
       "<Figure size 1152x288 with 3 Axes>"
      ]
     },
     "metadata": {
      "needs_background": "light"
     },
     "output_type": "display_data"
    },
    {
     "data": {
      "image/png": "[encoded data removed]",
      "text/plain": [
       "<Figure size 1152x288 with 3 Axes>"
      ]
     },
     "metadata": {
      "needs_background": "light"
     },
     "output_type": "display_data"
    }
   ],
   "source": [
    "for feature in ['age','avg_glucose_level','bmi']:\n",
    "    check_outliers(data, feature)"
   ]
  },
  {
   "cell_type": "markdown",
   "id": "a7a5446e",
   "metadata": {},
   "source": [
    "Aqui podemos ver a distruibuição dos dados, probabilidade esperada e os quartis."
   ]
  },
  {
   "cell_type": "markdown",
   "id": "ee272458",
   "metadata": {},
   "source": [
    "# Preprocessing"
   ]
  },
  {
   "cell_type": "code",
   "execution_count": 564,
   "id": "efe4f1ff",
   "metadata": {},
   "outputs": [],
   "source": [
    "def label_encoder(df, column):\n",
    "    df = df.copy()\n",
    "    le = LabelEncoder()\n",
    "    df[column] = le.fit_transform(df[column])\n",
    "    return df"
   ]
  },
  {
   "cell_type": "code",
   "execution_count": 565,
   "id": "ee5d14a9",
   "metadata": {},
   "outputs": [],
   "source": [
    "def preprocess_inputs(df):\n",
    "    df = df.copy()\n",
    "    \n",
    "    # Excluindo a coluna id\n",
    "    df = df.drop('id', axis=1)\n",
    "    df.drop(3116,inplace=True)\n",
    "    \n",
    "    # Dados binários\n",
    "    df['ever_married'] = df['ever_married'].replace({'No': 0, 'Yes': 1})\n",
    "    df['Residence_type'] = df['Residence_type'].replace({'Rural': 0, 'Urban': 1})\n",
    "    \n",
    "    # Label encoder\n",
    "    for column in ['gender', 'work_type', 'smoking_status']:\n",
    "        df = label_encoder(df, column=column)\n",
    "    \n",
    "    # X Y\n",
    "    y = df['stroke']\n",
    "    X = df.drop('stroke', axis=1)\n",
    "    \n",
    "    # Train-test split\n",
    "    X_train, X_test, y_train, y_test = train_test_split(X, y, train_size=0.7, shuffle=True, random_state=1)\n",
    "    \n",
    "    \n",
    "    # Dados faltantes\n",
    "    imputer = KNNImputer()\n",
    "    imputer.fit(X_train)\n",
    "    X_train = pd.DataFrame(imputer.transform(X_train), index=X_train.index, columns=X_train.columns)\n",
    "    X_test = pd.DataFrame(imputer.transform(X_test), index=X_test.index, columns=X_test.columns)\n",
    "    \n",
    "    # Normalização dos dados\n",
    "    scaler = StandardScaler()\n",
    "    scaler.fit(X_train)\n",
    "    X_train = pd.DataFrame(scaler.transform(X_train), index=X_train.index, columns=X_train.columns)\n",
    "    X_test = pd.DataFrame(scaler.transform(X_test), index=X_test.index, columns=X_test.columns)\n",
    "    \n",
    "    return X_train, X_test, y_train, y_test"
   ]
  },
  {
   "cell_type": "code",
   "execution_count": 566,
   "id": "1c0dea63",
   "metadata": {},
   "outputs": [],
   "source": [
    "X_train, X_test, y_train, y_test = preprocess_inputs(data)"
   ]
  },
  {
   "cell_type": "code",
   "execution_count": 567,
   "id": "2baaf144",
   "metadata": {},
   "outputs": [
    {
     "data": {
      "text/html": [
       "<div>\n",
       "<style scoped>\n",
       "    .dataframe tbody tr th:only-of-type {\n",
       "        vertical-align: middle;\n",
       "    }\n",
       "\n",
       "    .dataframe tbody tr th {\n",
       "        vertical-align: top;\n",
       "    }\n",
       "\n",
       "    .dataframe thead th {\n",
       "        text-align: right;\n",
       "    }\n",
       "</style>\n",
       "<table border=\"1\" class=\"dataframe\">\n",
       "  <thead>\n",
       "    <tr style=\"text-align: right;\">\n",
       "      <th></th>\n",
       "      <th>gender</th>\n",
       "      <th>age</th>\n",
       "      <th>hypertension</th>\n",
       "      <th>heart_disease</th>\n",
       "      <th>ever_married</th>\n",
       "      <th>work_type</th>\n",
       "      <th>Residence_type</th>\n",
       "      <th>avg_glucose_level</th>\n",
       "      <th>bmi</th>\n",
       "      <th>smoking_status</th>\n",
       "    </tr>\n",
       "  </thead>\n",
       "  <tbody>\n",
       "    <tr>\n",
       "      <th>4313</th>\n",
       "      <td>1.174021</td>\n",
       "      <td>0.608843</td>\n",
       "      <td>-0.330374</td>\n",
       "      <td>-0.238161</td>\n",
       "      <td>0.719002</td>\n",
       "      <td>-0.152818</td>\n",
       "      <td>0.994146</td>\n",
       "      <td>0.638258</td>\n",
       "      <td>0.008000</td>\n",
       "      <td>-1.280668</td>\n",
       "    </tr>\n",
       "    <tr>\n",
       "      <th>376</th>\n",
       "      <td>-0.851774</td>\n",
       "      <td>-1.886989</td>\n",
       "      <td>-0.330374</td>\n",
       "      <td>-0.238161</td>\n",
       "      <td>-1.390817</td>\n",
       "      <td>1.684598</td>\n",
       "      <td>-1.005888</td>\n",
       "      <td>-0.386663</td>\n",
       "      <td>-1.755075</td>\n",
       "      <td>-1.280668</td>\n",
       "    </tr>\n",
       "    <tr>\n",
       "      <th>4913</th>\n",
       "      <td>1.174021</td>\n",
       "      <td>-1.036663</td>\n",
       "      <td>-0.330374</td>\n",
       "      <td>-0.238161</td>\n",
       "      <td>-1.390817</td>\n",
       "      <td>-0.152818</td>\n",
       "      <td>0.994146</td>\n",
       "      <td>-0.466196</td>\n",
       "      <td>-1.106886</td>\n",
       "      <td>0.587201</td>\n",
       "    </tr>\n",
       "    <tr>\n",
       "      <th>1791</th>\n",
       "      <td>1.174021</td>\n",
       "      <td>-1.347974</td>\n",
       "      <td>-0.330374</td>\n",
       "      <td>-0.238161</td>\n",
       "      <td>-1.390817</td>\n",
       "      <td>1.684598</td>\n",
       "      <td>-1.005888</td>\n",
       "      <td>0.697358</td>\n",
       "      <td>-1.405053</td>\n",
       "      <td>-1.280668</td>\n",
       "    </tr>\n",
       "    <tr>\n",
       "      <th>2166</th>\n",
       "      <td>1.174021</td>\n",
       "      <td>-0.680878</td>\n",
       "      <td>-0.330374</td>\n",
       "      <td>-0.238161</td>\n",
       "      <td>0.719002</td>\n",
       "      <td>-0.152818</td>\n",
       "      <td>-1.005888</td>\n",
       "      <td>1.401291</td>\n",
       "      <td>-0.238312</td>\n",
       "      <td>-1.280668</td>\n",
       "    </tr>\n",
       "    <tr>\n",
       "      <th>...</th>\n",
       "      <td>...</td>\n",
       "      <td>...</td>\n",
       "      <td>...</td>\n",
       "      <td>...</td>\n",
       "      <td>...</td>\n",
       "      <td>...</td>\n",
       "      <td>...</td>\n",
       "      <td>...</td>\n",
       "      <td>...</td>\n",
       "      <td>...</td>\n",
       "    </tr>\n",
       "    <tr>\n",
       "      <th>2895</th>\n",
       "      <td>1.174021</td>\n",
       "      <td>0.119639</td>\n",
       "      <td>-0.330374</td>\n",
       "      <td>-0.238161</td>\n",
       "      <td>0.719002</td>\n",
       "      <td>-0.152818</td>\n",
       "      <td>0.994146</td>\n",
       "      <td>0.704389</td>\n",
       "      <td>0.033928</td>\n",
       "      <td>0.587201</td>\n",
       "    </tr>\n",
       "    <tr>\n",
       "      <th>2763</th>\n",
       "      <td>-0.851774</td>\n",
       "      <td>0.075165</td>\n",
       "      <td>-0.330374</td>\n",
       "      <td>-0.238161</td>\n",
       "      <td>0.719002</td>\n",
       "      <td>-0.152818</td>\n",
       "      <td>-1.005888</td>\n",
       "      <td>-0.922303</td>\n",
       "      <td>0.383950</td>\n",
       "      <td>-1.280668</td>\n",
       "    </tr>\n",
       "    <tr>\n",
       "      <th>905</th>\n",
       "      <td>-0.851774</td>\n",
       "      <td>-0.547458</td>\n",
       "      <td>-0.330374</td>\n",
       "      <td>-0.238161</td>\n",
       "      <td>0.719002</td>\n",
       "      <td>-0.152818</td>\n",
       "      <td>-1.005888</td>\n",
       "      <td>-0.647013</td>\n",
       "      <td>0.850646</td>\n",
       "      <td>0.587201</td>\n",
       "    </tr>\n",
       "    <tr>\n",
       "      <th>3980</th>\n",
       "      <td>-0.851774</td>\n",
       "      <td>0.075165</td>\n",
       "      <td>-0.330374</td>\n",
       "      <td>-0.238161</td>\n",
       "      <td>0.719002</td>\n",
       "      <td>-0.152818</td>\n",
       "      <td>-1.005888</td>\n",
       "      <td>2.469274</td>\n",
       "      <td>3.365621</td>\n",
       "      <td>1.521136</td>\n",
       "    </tr>\n",
       "    <tr>\n",
       "      <th>235</th>\n",
       "      <td>-0.851774</td>\n",
       "      <td>1.098047</td>\n",
       "      <td>-0.330374</td>\n",
       "      <td>-0.238161</td>\n",
       "      <td>0.719002</td>\n",
       "      <td>-0.152818</td>\n",
       "      <td>-1.005888</td>\n",
       "      <td>2.314602</td>\n",
       "      <td>1.330306</td>\n",
       "      <td>-1.280668</td>\n",
       "    </tr>\n",
       "  </tbody>\n",
       "</table>\n",
       "<p>3577 rows × 10 columns</p>\n",
       "</div>"
      ],
      "text/plain": [
       "        gender       age  hypertension  heart_disease  ever_married  \\\n",
       "4313  1.174021  0.608843     -0.330374      -0.238161      0.719002   \n",
       "376  -0.851774 -1.886989     -0.330374      -0.238161     -1.390817   \n",
       "4913  1.174021 -1.036663     -0.330374      -0.238161     -1.390817   \n",
       "1791  1.174021 -1.347974     -0.330374      -0.238161     -1.390817   \n",
       "2166  1.174021 -0.680878     -0.330374      -0.238161      0.719002   \n",
       "...        ...       ...           ...            ...           ...   \n",
       "2895  1.174021  0.119639     -0.330374      -0.238161      0.719002   \n",
       "2763 -0.851774  0.075165     -0.330374      -0.238161      0.719002   \n",
       "905  -0.851774 -0.547458     -0.330374      -0.238161      0.719002   \n",
       "3980 -0.851774  0.075165     -0.330374      -0.238161      0.719002   \n",
       "235  -0.851774  1.098047     -0.330374      -0.238161      0.719002   \n",
       "\n",
       "      work_type  Residence_type  avg_glucose_level       bmi  smoking_status  \n",
       "4313  -0.152818        0.994146           0.638258  0.008000       -1.280668  \n",
       "376    1.684598       -1.005888          -0.386663 -1.755075       -1.280668  \n",
       "4913  -0.152818        0.994146          -0.466196 -1.106886        0.587201  \n",
       "1791   1.684598       -1.005888           0.697358 -1.405053       -1.280668  \n",
       "2166  -0.152818       -1.005888           1.401291 -0.238312       -1.280668  \n",
       "...         ...             ...                ...       ...             ...  \n",
       "2895  -0.152818        0.994146           0.704389  0.033928        0.587201  \n",
       "2763  -0.152818       -1.005888          -0.922303  0.383950       -1.280668  \n",
       "905   -0.152818       -1.005888          -0.647013  0.850646        0.587201  \n",
       "3980  -0.152818       -1.005888           2.469274  3.365621        1.521136  \n",
       "235   -0.152818       -1.005888           2.314602  1.330306       -1.280668  \n",
       "\n",
       "[3577 rows x 10 columns]"
      ]
     },
     "execution_count": 567,
     "metadata": {},
     "output_type": "execute_result"
    }
   ],
   "source": [
    "X_train"
   ]
  },
  {
   "cell_type": "markdown",
   "id": "270ba3b0",
   "metadata": {},
   "source": [
    "# Treino"
   ]
  },
  {
   "cell_type": "code",
   "execution_count": 568,
   "id": "304f2015",
   "metadata": {},
   "outputs": [],
   "source": [
    "from imblearn.over_sampling import SMOTE\n",
    "smt = SMOTE()\n",
    "X_train, y_train = smt.fit_resample(X_train, y_train)"
   ]
  },
  {
   "cell_type": "markdown",
   "id": "5ff9730d",
   "metadata": {},
   "source": [
    "Como temos um dataset desbalanceado, vamo aplicar um método de oversampling. Utilizaremos o SMOTE"
   ]
  },
  {
   "cell_type": "code",
   "execution_count": 686,
   "id": "b0d02362",
   "metadata": {},
   "outputs": [],
   "source": [
    "def balanceamento(X_train,y_train):\n",
    "    smt = SMOTE()\n",
    "    X_train_oversampled, y_train_oversampled = smt.fit_resample(X_train, y_train)\n",
    "    return X_train_oversampled,y_train_oversampled\n",
    "    "
   ]
  },
  {
   "cell_type": "code",
   "execution_count": 687,
   "id": "2fa6563a",
   "metadata": {},
   "outputs": [
    {
     "name": "stdout",
     "output_type": "stream",
     "text": [
      "                   Logistic Regression trained.\n",
      "                   K-Nearest Neighbors trained.\n",
      "                         Decision Tree trained.\n",
      "                         Random Forest trained.\n",
      "                     Gradient Boosting trained.\n",
      "                               XGBoost trained.\n"
     ]
    }
   ],
   "source": [
    "X_train_oversampled, y_train_oversampled = balanceamento(X_train, y_train)\n",
    "models = {\n",
    "    \"                   Logistic Regression\": LogisticRegression(),\n",
    "    \"                   K-Nearest Neighbors\": KNeighborsClassifier(),\n",
    "    \"                         Decision Tree\": DecisionTreeClassifier(),\n",
    "    \"                         Random Forest\": RandomForestClassifier(),\n",
    "    \"                     Gradient Boosting\": GradientBoostingClassifier(),\n",
    "    \"                               XGBoost\": XGBClassifier(eval_metric='mlogloss')\n",
    "}\n",
    "\n",
    "for name, model in models.items():\n",
    "    model.fit(X_train_oversampled, y_train_oversampled)\n",
    "    print(name + \" trained.\")"
   ]
  },
  {
   "cell_type": "code",
   "execution_count": 688,
   "id": "41efffa1",
   "metadata": {},
   "outputs": [
    {
     "data": {
      "text/plain": [
       "0    3411\n",
       "1    3411\n",
       "Name: stroke, dtype: int64"
      ]
     },
     "execution_count": 688,
     "metadata": {},
     "output_type": "execute_result"
    }
   ],
   "source": [
    "y_train_oversampled.value_counts()"
   ]
  },
  {
   "cell_type": "code",
   "execution_count": 689,
   "id": "51e0b780",
   "metadata": {
    "scrolled": false
   },
   "outputs": [
    {
     "name": "stdout",
     "output_type": "stream",
     "text": [
      "Model Performance\n",
      "-----------------\n",
      "\n",
      "                   Logistic Regression Accuracy: 75.016%\n",
      "\t\t\t\t       F1-Score: 0.25919\n",
      "              precision    recall  f1-score   support\n",
      "\n",
      "           0       0.99      0.75      0.85      1450\n",
      "           1       0.15      0.81      0.26        83\n",
      "\n",
      "    accuracy                           0.75      1533\n",
      "   macro avg       0.57      0.78      0.55      1533\n",
      "weighted avg       0.94      0.75      0.82      1533\n",
      "\n",
      "\n",
      "                   K-Nearest Neighbors Accuracy: 81.866%\n",
      "\t\t\t\t       F1-Score: 0.15244\n",
      "              precision    recall  f1-score   support\n",
      "\n",
      "           0       0.95      0.85      0.90      1450\n",
      "           1       0.10      0.30      0.15        83\n",
      "\n",
      "    accuracy                           0.82      1533\n",
      "   macro avg       0.53      0.57      0.53      1533\n",
      "weighted avg       0.91      0.82      0.86      1533\n",
      "\n",
      "\n",
      "                         Decision Tree Accuracy: 87.606%\n",
      "\t\t\t\t       F1-Score: 0.15929\n",
      "              precision    recall  f1-score   support\n",
      "\n",
      "           0       0.95      0.91      0.93      1450\n",
      "           1       0.13      0.22      0.16        83\n",
      "\n",
      "    accuracy                           0.88      1533\n",
      "   macro avg       0.54      0.57      0.55      1533\n",
      "weighted avg       0.91      0.88      0.89      1533\n",
      "\n",
      "\n",
      "                         Random Forest Accuracy: 91.977%\n",
      "\t\t\t\t       F1-Score: 0.07519\n",
      "              precision    recall  f1-score   support\n",
      "\n",
      "           0       0.95      0.97      0.96      1450\n",
      "           1       0.10      0.06      0.08        83\n",
      "\n",
      "    accuracy                           0.92      1533\n",
      "   macro avg       0.52      0.51      0.52      1533\n",
      "weighted avg       0.90      0.92      0.91      1533\n",
      "\n",
      "\n",
      "                     Gradient Boosting Accuracy: 88.519%\n",
      "\t\t\t\t       F1-Score: 0.22124\n",
      "              precision    recall  f1-score   support\n",
      "\n",
      "           0       0.96      0.92      0.94      1450\n",
      "           1       0.17      0.30      0.22        83\n",
      "\n",
      "    accuracy                           0.89      1533\n",
      "   macro avg       0.57      0.61      0.58      1533\n",
      "weighted avg       0.92      0.89      0.90      1533\n",
      "\n",
      "\n",
      "                               XGBoost Accuracy: 92.303%\n",
      "\t\t\t\t       F1-Score: 0.11940\n",
      "              precision    recall  f1-score   support\n",
      "\n",
      "           0       0.95      0.97      0.96      1450\n",
      "           1       0.16      0.10      0.12        83\n",
      "\n",
      "    accuracy                           0.92      1533\n",
      "   macro avg       0.55      0.53      0.54      1533\n",
      "weighted avg       0.91      0.92      0.91      1533\n",
      "\n"
     ]
    }
   ],
   "source": [
    "print(\"Model Performance\\n-----------------\")\n",
    "for name, model in models.items():\n",
    "    y_pred = model.predict(X_test)\n",
    "    print(\n",
    "        \"\\n\" + name + \" Accuracy: {:.3f}%\\n\\t\\t\\t\\t       F1-Score: {:.5f}\"\\\n",
    "        .format(accuracy_score(y_test, y_pred) * 100, f1_score(y_test, y_pred))\n",
    "    )\n",
    "    print(classification_report(y_test,y_pred))"
   ]
  },
  {
   "cell_type": "markdown",
   "id": "9f7b4f9c",
   "metadata": {},
   "source": [
    "# Conclusão"
   ]
  },
  {
   "cell_type": "markdown",
   "id": "fe69469d",
   "metadata": {},
   "source": [
    "O modelo de Regressão logística gerou o melhor recall, isso significa que de todos os derrames que realmente são positivos, qual percentual é identificado corretamente pelo modelo? 81%"
   ]
  },
  {
   "cell_type": "code",
   "execution_count": null,
   "id": "5a914808",
   "metadata": {},
   "outputs": [],
   "source": []
  },
  {
   "cell_type": "code",
   "execution_count": null,
   "id": "0dc591e4",
   "metadata": {},
   "outputs": [],
   "source": []
  }
 ],
 "metadata": {
  "kernelspec": {
   "display_name": "Python 3 (ipykernel)",
   "language": "python",
   "name": "python3"
  },
  "language_info": {
   "codemirror_mode": {
    "name": "ipython",
    "version": 3
   },
   "file_extension": ".py",
   "mimetype": "text/x-python",
   "name": "python",
   "nbconvert_exporter": "python",
   "pygments_lexer": "ipython3",
   "version": "3.9.12"
  }
 },
 "nbformat": 4,
 "nbformat_minor": 5
}
